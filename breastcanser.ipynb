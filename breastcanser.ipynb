{

 "cells": [
  {
   "cell_type": "markdown",
   "metadata": {},
   "source": [
    "BREAS CANSER FROM SKLEARN DATASET"
  },
  {
   "cell_type": "code",
   "execution_count": 19,
   "metadata": {},
   "outputs": [
    {
     "name": "stdout",
     "output_type": "stream",
     "text": [
      ".. _breast_cancer_dataset:\n",
      "\n",
      "Breast cancer wisconsin (diagnostic) dataset\n",
      "--------------------------------------------\n",
      "\n",
      "**Data Set Characteristics:**\n",
      "\n",
      ":Number of Instances: 569\n",
      "\n",
      ":Number of Attributes: 30 numeric, predictive attributes and the class\n",
      "\n",
      ":Attribute Information:\n",
      "    - radius (mean of distances from center to points on the perimeter)\n",
      "    - texture (standard deviation of gray-scale values)\n",
      "    - perimeter\n",
      "    - area\n",
      "    - smoothness (local variation in radius lengths)\n",
      "    - compactness (perimeter^2 / area - 1.0)\n",
      "    - concavity (severity of concave portions of the contour)\n",
      "    - concave points (number of concave portions of the contour)\n",
      "    - symmetry\n",
      "    - fractal dimension (\"coastline approximation\" - 1)\n",
      "\n",
      "    The mean, standard error, and \"worst\" or largest (mean of the three\n",
      "    worst/largest values) of these features were computed for each image,\n",
      "    resulting in 30 features.  For instance, field 0 is Mean Radius, field\n",
      "    10 is Radius SE, field 20 is Worst Radius.\n",
      "\n",
      "    - class:\n",
      "            - WDBC-Malignant\n",
      "            - WDBC-Benign\n",
      "\n",
      ":Summary Statistics:\n",
      "\n",
      "===================================== ====== ======\n",
      "                                        Min    Max\n",
      "===================================== ====== ======\n",
      "radius (mean):                        6.981  28.11\n",
      "texture (mean):                       9.71   39.28\n",
      "perimeter (mean):                     43.79  188.5\n",
      "area (mean):                          143.5  2501.0\n",
      "smoothness (mean):                    0.053  0.163\n",
      "compactness (mean):                   0.019  0.345\n",
      "concavity (mean):                     0.0    0.427\n",
      "concave points (mean):                0.0    0.201\n",
      "symmetry (mean):                      0.106  0.304\n",
      "fractal dimension (mean):             0.05   0.097\n",
      "radius (standard error):              0.112  2.873\n",
      "texture (standard error):             0.36   4.885\n",
      "perimeter (standard error):           0.757  21.98\n",
      "area (standard error):                6.802  542.2\n",
      "smoothness (standard error):          0.002  0.031\n",
      "compactness (standard error):         0.002  0.135\n",
      "concavity (standard error):           0.0    0.396\n",
      "concave points (standard error):      0.0    0.053\n",
      "symmetry (standard error):            0.008  0.079\n",
      "fractal dimension (standard error):   0.001  0.03\n",
      "radius (worst):                       7.93   36.04\n",
      "texture (worst):                      12.02  49.54\n",
      "perimeter (worst):                    50.41  251.2\n",
      "area (worst):                         185.2  4254.0\n",
      "smoothness (worst):                   0.071  0.223\n",
      "compactness (worst):                  0.027  1.058\n",
      "concavity (worst):                    0.0    1.252\n",
      "concave points (worst):               0.0    0.291\n",
      "symmetry (worst):                     0.156  0.664\n",
      "fractal dimension (worst):            0.055  0.208\n",
      "===================================== ====== ======\n",
      "\n",
      ":Missing Attribute Values: None\n",
      "\n",
      ":Class Distribution: 212 - Malignant, 357 - Benign\n",
      "\n",
      ":Creator:  Dr. William H. Wolberg, W. Nick Street, Olvi L. Mangasarian\n",
      "\n",
      ":Donor: Nick Street\n",
      "\n",
      ":Date: November, 1995\n",
      "\n",
      "This is a copy of UCI ML Breast Cancer Wisconsin (Diagnostic) datasets.\n",
      "https://goo.gl/U2Uwz2\n",
      "\n",
      "Features are computed from a digitized image of a fine needle\n",
      "aspirate (FNA) of a breast mass.  They describe\n",
      "characteristics of the cell nuclei present in the image.\n",
      "\n",
      "Separating plane described above was obtained using\n",
      "Multisurface Method-Tree (MSM-T) [K. P. Bennett, \"Decision Tree\n",
      "Construction Via Linear Programming.\" Proceedings of the 4th\n",
      "Midwest Artificial Intelligence and Cognitive Science Society,\n",
      "pp. 97-101, 1992], a classification method which uses linear\n",
      "programming to construct a decision tree.  Relevant features\n",
      "were selected using an exhaustive search in the space of 1-4\n",
      "features and 1-3 separating planes.\n",
      "\n",
      "The actual linear program used to obtain the separating plane\n",
      "in the 3-dimensional space is that described in:\n",
      "[K. P. Bennett and O. L. Mangasarian: \"Robust Linear\n",
      "Programming Discrimination of Two Linearly Inseparable Sets\",\n",
      "Optimization Methods and Software 1, 1992, 23-34].\n",
      "\n",
      "This database is also available through the UW CS ftp server:\n",
      "\n",
      "ftp ftp.cs.wisc.edu\n",
      "cd math-prog/cpo-dataset/machine-learn/WDBC/\n",
      "\n",
      ".. dropdown:: References\n",
      "\n",
      "  - W.N. Street, W.H. Wolberg and O.L. Mangasarian. Nuclear feature extraction\n",
      "    for breast tumor diagnosis. IS&T/SPIE 1993 International Symposium on\n",
      "    Electronic Imaging: Science and Technology, volume 1905, pages 861-870,\n",
      "    San Jose, CA, 1993.\n",
      "  - O.L. Mangasarian, W.N. Street and W.H. Wolberg. Breast cancer diagnosis and\n",
      "    prognosis via linear programming. Operations Research, 43(4), pages 570-577,\n",
      "    July-August 1995.\n",
      "  - W.H. Wolberg, W.N. Street, and O.L. Mangasarian. Machine learning techniques\n",
      "    to diagnose breast cancer from fine-needle aspirates. Cancer Letters 77 (1994)\n",
      "    163-171.\n",
      "\n"
     ]
    }
   ],
   "source": [
    "import sklearn\n",
    "from sklearn.datasets import load_breast_cancer \n",
    "bc=load_breast_cancer()\n",
    "print(bc.DESCR)\n"
   ]
  },
  {
   "cell_type": "code",
   "execution_count": 20,
   "metadata": {},
   "outputs": [
    {
     "data": {
      "text/plain": [
       "(569, 30)"
      ]
     },
     "execution_count": 20,
     "metadata": {},
     "output_type": "execute_result"
    }
   ],
   "source": [
    "bc.target[0]\n",
    "bc.target.shape\n",
    "bc.data[500]\n",
    "bc.data.shape\n"
   ]
  },
  {
   "cell_type": "markdown",
   "metadata": {},
   "source": [
    "#train/test"
   ]
  },
  {
   "cell_type": "code",
   "execution_count": 21,
   "metadata": {},
   "outputs": [
    {
     "data": {
      "text/plain": [
       "array([9.567e+00, 1.591e+01, 6.021e+01, 2.796e+02, 8.464e-02, 4.087e-02,\n",
       "       1.652e-02, 1.667e-02, 1.551e-01, 6.403e-02, 2.152e-01, 8.301e-01,\n",
       "       1.215e+00, 1.264e+01, 1.164e-02, 1.040e-02, 1.186e-02, 9.623e-03,\n",
       "       2.383e-02, 3.540e-03, 1.051e+01, 1.916e+01, 6.574e+01, 3.359e+02,\n",
       "       1.504e-01, 9.515e-02, 7.161e-02, 7.222e-02, 2.757e-01, 8.178e-02])"
      ]
     },
     "execution_count": 21,
     "metadata": {},
     "output_type": "execute_result"
    }
   ],
   "source": [
    "from sklearn.model_selection import train_test_split\n",
    "x_train,x_test,y_train,y_test=train_test_split(bc.data,bc.target,test_size=0.2)\n",
    "\n",
    "x_test.shape,x_train.shape\n",
    "\n",
    "x_train[0]\n"
   ]
  },
  {
   "cell_type": "code",
   "execution_count": 22,
   "metadata": {},
   "outputs": [],
   "source": [
    "#normalise"
   ]
  },
  {
   "cell_type": "code",
   "execution_count": 23,
   "metadata": {},
   "outputs": [],
   "source": [
    "from sklearn.preprocessing import MinMaxScaler\n",
    "scalar=MinMaxScaler(feature_range=(0,1))\n",
    "x_train=scalar.fit_transform(x_train)\n",
    "x_test=scalar.fit_transform(x_test)\n"
   ]
  },
  {
   "cell_type": "code",
   "execution_count": 24,
   "metadata": {},
   "outputs": [
    {
     "data": {
      "text/plain": [
       "array([0.12239103, 0.20967196, 0.11346832, 0.05773065, 0.28897716,\n",
       "       0.07359085, 0.03870665, 0.08285288, 0.2479798 , 0.30301033,\n",
       "       0.03755206, 0.13289779, 0.02158036, 0.01090404, 0.31140475,\n",
       "       0.06119506, 0.07726384, 0.23528117, 0.27524508, 0.12042686,\n",
       "       0.09178228, 0.19029851, 0.07634842, 0.03703795, 0.48921118,\n",
       "       0.0673211 , 0.06120513, 0.24817869, 0.28303232, 0.28419925])"
      ]
     },
     "execution_count": 24,
     "metadata": {},
     "output_type": "execute_result"
    }
   ],
   "source": [
    "x_train.shape\n",
    "x_train[0]\n"
   ]
  },
  {
   "cell_type": "code",
   "execution_count": 25,
   "metadata": {},
   "outputs": [],
   "source": [
    "from sklearn.metrics import accuracy_score, recall_score,confusion_matrix,precision_score\n",
    "\n",
    "def calculate_metrics(y_train,y_test,y_pred_train,y_pred_test):\n",
    "\n",
    "    conf_train=confusion_matrix(y_train,y_pred_train)\n",
    "    conf_test=confusion_matrix(y_test,y_pred_test)\n",
    "\n",
    "    acc_train=accuracy_score(y_train,y_pred_train)\n",
    "    acc_test=accuracy_score(y_true=y_test,y_pred=y_pred_test)\n",
    "\n",
    "    rec_train=recall_score(y_train,y_pred_train)\n",
    "    rec_test=recall_score(y_test,y_pred_test)\n",
    "\n",
    "    prec_train=precision_score(y_train,y_pred_train)\n",
    "    prec_test=precision_score(y_test,y_pred_test)\n",
    "    print(\n",
    "      f\"confusion for training data: {conf_train}\\t\\t\"\n",
    "      f\"confusion for test data: {conf_test}\\n\\n\"\n",
    "      f\"Accuracy for training data: {acc_train}\\t\\t\"\n",
    "      f\"Accuracy for test data: {acc_test}\\n\\n\"\n",
    "      f\"Recall for training data: {rec_train}\\t\\t\"\n",
    "      f\"Recall for test data: {rec_test}\\n\\n\"\n",
    "      f\"Precision for training data: {prec_train}\\t\\t\"\n",
    "      f\"Precision for test data: {prec_test}\\n\\n\")\n",
    "\n",
    "    return  conf_train,conf_test,acc_train,acc_test,rec_train,rec_test,prec_train,prec_test\n"
   ]
  },
  {
   "cell_type": "code",
   "execution_count": 26,
   "metadata": {},
   "outputs": [],
   "source": [
    "#naive bayes "
   ]
  },
  {
   "cell_type": "code",
   "execution_count": 27,
   "metadata": {},
   "outputs": [
    {
     "name": "stdout",
     "output_type": "stream",
     "text": [
      "confusion for training data: [[148  17]\n",
      " [ 14 276]]\t\tconfusion for test data: [[46  1]\n",
      " [19 48]]\n",
      "\n",
      "Accuracy for training data: 0.9318681318681319\t\tAccuracy for test data: 0.8245614035087719\n",
      "\n",
      "Recall for training data: 0.9517241379310345\t\tRecall for test data: 0.7164179104477612\n",
      "\n",
      "Precision for training data: 0.9419795221843004\t\tPrecision for test data: 0.9795918367346939\n",
      "\n",
      "\n"
     ]
    }
   ],
   "source": [
    "from sklearn.naive_bayes import GaussianNB\n",
    "gnb=GaussianNB()\n",
    "gnb.fit(x_train,y_train)\n",
    "\n",
    "y_pred_train=gnb.predict(x_train)\n",
    "y_pred_test=gnb.predict(x_test)\n",
    "\n",
    "conf_train_gnb, conf_test_gnb, acc_train_gnb,acc_test_gnb, rec_train_gnb,rec_test_gnb,prec_train_gnb,prec_test_gnb=calculate_metrics(y_train,y_test,y_pred_train,y_pred_test)\n",
    "\n"
   ]
  },
  {
   "cell_type": "code",
   "execution_count": 28,
   "metadata": {},
   "outputs": [
    {
     "name": "stdout",
     "output_type": "stream",
     "text": [
      "confusion for training data: [[154  11]\n",
      " [  2 288]]\t\tconfusion for test data: [[47  0]\n",
      " [ 6 61]]\n",
      "\n",
      "Accuracy for training data: 0.9714285714285714\t\tAccuracy for test data: 0.9473684210526315\n",
      "\n",
      "Recall for training data: 0.993103448275862\t\tRecall for test data: 0.9104477611940298\n",
      "\n",
      "Precision for training data: 0.9632107023411371\t\tPrecision for test data: 1.0\n",
      "\n",
      "\n"
     ]
    }
   ],
   "source": [
    "#knn\n",
    "from sklearn.neighbors import KNeighborsClassifier\n",
    "knn=KNeighborsClassifier(n_neighbors=8,algorithm='kd_tree',leaf_size=28)\n",
    "knn.fit(x_train,y_train)\n",
    "y_pred_train=gnb.predict(x_train)\n",
    "y_pred_test=gnb.predict(x_test)\n",
    "\n",
    "y_pred_train=knn.predict(x_train)\n",
    "y_pred_test=knn.predict(x_test)\n",
    "conf_train_knn, conf_test_knn, acc_train_knn,acc_test_knn, rec_train_knn,rec_test_knn,prec_train_knn,prec_test_knn=calculate_metrics(y_train,y_test,y_pred_train,y_pred_test)\n",
    "\n"
   ]
  },
  {
   "cell_type": "code",
   "execution_count": 29,
   "metadata": {},
   "outputs": [
    {
     "name": "stdout",
     "output_type": "stream",
     "text": [
      "confusion for training data: [[165   0]\n",
      " [  2 288]]\t\tconfusion for test data: [[45  2]\n",
      " [ 9 58]]\n",
      "\n",
      "Accuracy for training data: 0.9956043956043956\t\tAccuracy for test data: 0.9035087719298246\n",
      "\n",
      "Recall for training data: 0.993103448275862\t\tRecall for test data: 0.8656716417910447\n",
      "\n",
      "Precision for training data: 1.0\t\tPrecision for test data: 0.9666666666666667\n",
      "\n",
      "\n"
     ]
    }
   ],
   "source": [
    "#DT\n",
    "from sklearn.tree import DecisionTreeClassifier\n",
    "dt=DecisionTreeClassifier(max_depth=128,min_samples_leaf=2,min_samples_split=4,criterion='entropy')\n",
    "dt.fit(x_train,y_train)\n",
    "y_pred_train=dt.predict(x_train)\n",
    "y_pred_test=dt.predict(x_test)\n",
    "conf_train_dt, conf_test_dt, acc_train_dt,acc_test_dt, rec_train_dt,rec_test_dt,prec_train_dt,prec_test_dt=calculate_metrics(y_train,y_test,y_pred_train,y_pred_test)\n"
   ]
  },
  {
   "cell_type": "code",
   "execution_count": 30,
   "metadata": {},
   "outputs": [
    {
     "name": "stdout",
     "output_type": "stream",
     "text": [
      "confusion for training data: [[162   3]\n",
      " [  0 290]]\t\tconfusion for test data: [[45  2]\n",
      " [11 56]]\n",
      "\n",
      "Accuracy for training data: 0.9934065934065934\t\tAccuracy for test data: 0.8859649122807017\n",
      "\n",
      "Recall for training data: 1.0\t\tRecall for test data: 0.835820895522388\n",
      "\n",
      "Precision for training data: 0.9897610921501706\t\tPrecision for test data: 0.9655172413793104\n",
      "\n",
      "\n"
     ]
    }
   ],
   "source": [
    "#RF\n",
    "from sklearn.ensemble import RandomForestClassifier\n",
    "rf=RandomForestClassifier(n_estimators=500, max_depth=64, min_samples_split=8)\n",
    "rf.fit(x_train,y_train)\n",
    "y_pred_train=rf.predict(x_train)\n",
    "y_pred_test=rf.predict(x_test)\n",
    "conf_train_rf, conf_test_rf, acc_train_rf,acc_test_rf, rec_train_rf,rec_test_rf,prec_train_rf,prec_test_rf=calculate_metrics(y_train,y_test,y_pred_train,y_pred_test)\n"
   ]
  },
  {
   "cell_type": "code",
   "execution_count": 31,
   "metadata": {},
   "outputs": [
    {
     "name": "stdout",
     "output_type": "stream",
     "text": [
      "confusion for training data: [[158   7]\n",
      " [  0 290]]\t\tconfusion for test data: [[47  0]\n",
      " [13 54]]\n",
      "\n",
      "Accuracy for training data: 0.9846153846153847\t\tAccuracy for test data: 0.8859649122807017\n",
      "\n",
      "Recall for training data: 1.0\t\tRecall for test data: 0.8059701492537313\n",
      "\n",
      "Precision for training data: 0.9764309764309764\t\tPrecision for test data: 1.0\n",
      "\n",
      "\n"
     ]
    }
   ],
   "source": [
    "#SVM\n",
    "from sklearn.svm import SVC\n",
    "svm=SVC(kernel='poly')\n",
    "svm.fit(x_train,y_train)\n",
    "y_pred_train=svm.predict(x_train)\n",
    "y_pred_test=svm.predict(x_test)\n",
    "conf_train_svm, conf_test_svm, acc_train_svm,acc_test_svm, rec_train_svm,rec_test_svm,prec_train_svm,prec_test_svm=calculate_metrics(y_train,y_test,y_pred_train,y_pred_test)\n"
   ]
  },
  {
   "cell_type": "code",
   "execution_count": 32,
   "metadata": {},
   "outputs": [
    {
     "name": "stdout",
     "output_type": "stream",
     "text": [
      "confusion for training data: [[152  13]\n",
      " [  2 288]]\t\tconfusion for test data: [[46  1]\n",
      " [ 5 62]]\n",
      "\n",
      "Accuracy for training data: 0.967032967032967\t\tAccuracy for test data: 0.9473684210526315\n",
      "\n",
      "Recall for training data: 0.993103448275862\t\tRecall for test data: 0.9253731343283582\n",
      "\n",
      "Precision for training data: 0.9568106312292359\t\tPrecision for test data: 0.9841269841269841\n",
      "\n",
      "\n"
     ]
    }
   ],
   "source": [
    "#Lr\n",
    "from sklearn.linear_model import LogisticRegression\n",
    "lr=LogisticRegression()\n",
    "lr.fit(x_train,y_train)\n",
    "y_pred_train=lr.predict(x_train)\n",
    "y_pred_test=lr.predict(x_test)\n",
    "conf_train_lr, conf_test_lr, acc_train_lr,acc_test_lr, rec_train_lr,rec_test_lr,prec_train_lr,prec_test_lr=calculate_metrics(y_train,y_test,y_pred_train,y_pred_test)\n"
   ]
  },
  {
   "cell_type": "code",
   "execution_count": 33,
   "metadata": {},
   "outputs": [
    {
     "name": "stdout",
     "output_type": "stream",
     "text": [
      "confusion for training data: [[159   6]\n",
      " [  0 290]]\t\tconfusion for test data: [[47  0]\n",
      " [24 43]]\n",
      "\n",
      "Accuracy for training data: 0.9868131868131869\t\tAccuracy for test data: 0.7894736842105263\n",
      "\n",
      "Recall for training data: 1.0\t\tRecall for test data: 0.6417910447761194\n",
      "\n",
      "Precision for training data: 0.9797297297297297\t\tPrecision for test data: 1.0\n",
      "\n",
      "\n"
     ]
    },
    {
     "name": "stderr",
     "output_type": "stream",
     "text": [
      "c:\\Users\\Alzahra\\AppData\\Local\\Programs\\Python\\Python311\\Lib\\site-packages\\sklearn\\neural_network\\_multilayer_perceptron.py:691: ConvergenceWarning: Stochastic Optimizer: Maximum iterations (200) reached and the optimization hasn't converged yet.\n",
      "  warnings.warn(\n"
     ]
    }
   ],
   "source": [
    "#ANN\n",
    "from sklearn.neural_network import MLPClassifier\n",
    "ann=MLPClassifier(hidden_layer_sizes=256,activation='relu',solver='adam',batch_size=64)\n",
    "ann.fit(x_train,y_train)\n",
    "y_pred_train=ann.predict(x_train)\n",
    "y_pred_test=ann.predict(x_test)\n",
    "conf_train_ann, conf_test_ann, acc_train_ann,acc_test_ann, rec_train_ann,rec_test_ann,prec_train_ann,prec_test_ann=calculate_metrics(y_train,y_test,y_pred_train,y_pred_test)\n"
   ]
  },
  {
   "cell_type": "markdown",
   "metadata": {},
   "source": [
    "comparison"
   ]
  },
  {
   "cell_type": "code",
   "execution_count": 34,
   "metadata": {},
   "outputs": [
    {
     "data": {
      "image/png": "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",
      "text/plain": [
       "<Figure size 640x480 with 1 Axes>"
      ]
     },
     "metadata": {},
     "output_type": "display_data"
    },
    {
     "data": {
      "image/png": "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",
      "text/plain": [
       "<Figure size 640x480 with 1 Axes>"
      ]
     },
     "metadata": {},
     "output_type": "display_data"
    }
   ],
   "source": [
    "import matplotlib.pyplot as plt\n",
    "acc_train=[acc_train_gnb,acc_train_knn,acc_train_dt,acc_train_rf,acc_train_svm,acc_train_lr,acc_train_ann]\n",
    "title=[\"gnb\",'knn','dt','rf','svm','lr','ann']\n",
    "colors=['black','red','yellow','orange','green','blue','pink']\n",
    "plt.bar(title,acc_train,color=colors)\n",
    "plt.grid()\n",
    "plt.show()\n",
    "\n",
    "acc_test=[acc_test_gnb,acc_test_knn,acc_test_dt,acc_test_rf,acc_test_svm,acc_test_lr,acc_test_ann]\n",
    "title=[\"gnb\",'knn','dt','rf','svm','lr','ann']\n",
    "colors=['black','red','yellow','orange','green','blue','pink']\n",
    "plt.bar(title,acc_test,color=colors)\n",
    "plt.grid()\n",
    "plt.show()\n",
    "\n"
   ]
  }
 ],
 "metadata": {
  "kernelspec": {
   "display_name": "Python 3",
   "language": "python",
   "name": "python3"
  },
  "language_info": {
   "codemirror_mode": {
    "name": "ipython",
    "version": 3
   },
   "file_extension": ".py",
   "mimetype": "text/x-python",
   "name": "python",
   "nbconvert_exporter": "python",
   "pygments_lexer": "ipython3",
   "version": "3.11.9"
  }
 },
 "nbformat": 4,
 "nbformat_minor": 2
}
