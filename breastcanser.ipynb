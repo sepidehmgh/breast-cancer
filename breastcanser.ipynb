{
  [![Open In Colab](https://colab.research.google.com/assets/colab-badge.svg)](https://colab.research.google.com/github/sepidehmgh/breast-cancer/blob/main/breastcancer.ipynb)

  [![Open In Kaggle](https://kaggle.com/static/images/open-in-kaggle.svg)](https://kaggle.com/kernels/welcome?src=https://github.com/sepidehmgh/breast-cancer/blob/main/breastcancer.ipynb)
 "cells": [
  {
   "cell_type": "markdown",
   "metadata": {},
   "source": [
    "BREAS CANSER FROM SKLEARN DATASET"
   ]
  },
  {
   "cell_type": "code",
   "execution_count": 3,
   "metadata": {},
   "outputs": [
    {
     "name": "stdout",
     "output_type": "stream",
     "text": [
      ".. _breast_cancer_dataset:\n",
      "\n",
      "Breast cancer wisconsin (diagnostic) dataset\n",
      "--------------------------------------------\n",
      "\n",
      "**Data Set Characteristics:**\n",
      "\n",
      ":Number of Instances: 569\n",
      "\n",
      ":Number of Attributes: 30 numeric, predictive attributes and the class\n",
      "\n",
      ":Attribute Information:\n",
      "    - radius (mean of distances from center to points on the perimeter)\n",
      "    - texture (standard deviation of gray-scale values)\n",
      "    - perimeter\n",
      "    - area\n",
      "    - smoothness (local variation in radius lengths)\n",
      "    - compactness (perimeter^2 / area - 1.0)\n",
      "    - concavity (severity of concave portions of the contour)\n",
      "    - concave points (number of concave portions of the contour)\n",
      "    - symmetry\n",
      "    - fractal dimension (\"coastline approximation\" - 1)\n",
      "\n",
      "    The mean, standard error, and \"worst\" or largest (mean of the three\n",
      "    worst/largest values) of these features were computed for each image,\n",
      "    resulting in 30 features.  For instance, field 0 is Mean Radius, field\n",
      "    10 is Radius SE, field 20 is Worst Radius.\n",
      "\n",
      "    - class:\n",
      "            - WDBC-Malignant\n",
      "            - WDBC-Benign\n",
      "\n",
      ":Summary Statistics:\n",
      "\n",
      "===================================== ====== ======\n",
      "                                        Min    Max\n",
      "===================================== ====== ======\n",
      "radius (mean):                        6.981  28.11\n",
      "texture (mean):                       9.71   39.28\n",
      "perimeter (mean):                     43.79  188.5\n",
      "area (mean):                          143.5  2501.0\n",
      "smoothness (mean):                    0.053  0.163\n",
      "compactness (mean):                   0.019  0.345\n",
      "concavity (mean):                     0.0    0.427\n",
      "concave points (mean):                0.0    0.201\n",
      "symmetry (mean):                      0.106  0.304\n",
      "fractal dimension (mean):             0.05   0.097\n",
      "radius (standard error):              0.112  2.873\n",
      "texture (standard error):             0.36   4.885\n",
      "perimeter (standard error):           0.757  21.98\n",
      "area (standard error):                6.802  542.2\n",
      "smoothness (standard error):          0.002  0.031\n",
      "compactness (standard error):         0.002  0.135\n",
      "concavity (standard error):           0.0    0.396\n",
      "concave points (standard error):      0.0    0.053\n",
      "symmetry (standard error):            0.008  0.079\n",
      "fractal dimension (standard error):   0.001  0.03\n",
      "radius (worst):                       7.93   36.04\n",
      "texture (worst):                      12.02  49.54\n",
      "perimeter (worst):                    50.41  251.2\n",
      "area (worst):                         185.2  4254.0\n",
      "smoothness (worst):                   0.071  0.223\n",
      "compactness (worst):                  0.027  1.058\n",
      "concavity (worst):                    0.0    1.252\n",
      "concave points (worst):               0.0    0.291\n",
      "symmetry (worst):                     0.156  0.664\n",
      "fractal dimension (worst):            0.055  0.208\n",
      "===================================== ====== ======\n",
      "\n",
      ":Missing Attribute Values: None\n",
      "\n",
      ":Class Distribution: 212 - Malignant, 357 - Benign\n",
      "\n",
      ":Creator:  Dr. William H. Wolberg, W. Nick Street, Olvi L. Mangasarian\n",
      "\n",
      ":Donor: Nick Street\n",
      "\n",
      ":Date: November, 1995\n",
      "\n",
      "This is a copy of UCI ML Breast Cancer Wisconsin (Diagnostic) datasets.\n",
      "https://goo.gl/U2Uwz2\n",
      "\n",
      "Features are computed from a digitized image of a fine needle\n",
      "aspirate (FNA) of a breast mass.  They describe\n",
      "characteristics of the cell nuclei present in the image.\n",
      "\n",
      "Separating plane described above was obtained using\n",
      "Multisurface Method-Tree (MSM-T) [K. P. Bennett, \"Decision Tree\n",
      "Construction Via Linear Programming.\" Proceedings of the 4th\n",
      "Midwest Artificial Intelligence and Cognitive Science Society,\n",
      "pp. 97-101, 1992], a classification method which uses linear\n",
      "programming to construct a decision tree.  Relevant features\n",
      "were selected using an exhaustive search in the space of 1-4\n",
      "features and 1-3 separating planes.\n",
      "\n",
      "The actual linear program used to obtain the separating plane\n",
      "in the 3-dimensional space is that described in:\n",
      "[K. P. Bennett and O. L. Mangasarian: \"Robust Linear\n",
      "Programming Discrimination of Two Linearly Inseparable Sets\",\n",
      "Optimization Methods and Software 1, 1992, 23-34].\n",
      "\n",
      "This database is also available through the UW CS ftp server:\n",
      "\n",
      "ftp ftp.cs.wisc.edu\n",
      "cd math-prog/cpo-dataset/machine-learn/WDBC/\n",
      "\n",
      ".. dropdown:: References\n",
      "\n",
      "  - W.N. Street, W.H. Wolberg and O.L. Mangasarian. Nuclear feature extraction\n",
      "    for breast tumor diagnosis. IS&T/SPIE 1993 International Symposium on\n",
      "    Electronic Imaging: Science and Technology, volume 1905, pages 861-870,\n",
      "    San Jose, CA, 1993.\n",
      "  - O.L. Mangasarian, W.N. Street and W.H. Wolberg. Breast cancer diagnosis and\n",
      "    prognosis via linear programming. Operations Research, 43(4), pages 570-577,\n",
      "    July-August 1995.\n",
      "  - W.H. Wolberg, W.N. Street, and O.L. Mangasarian. Machine learning techniques\n",
      "    to diagnose breast cancer from fine-needle aspirates. Cancer Letters 77 (1994)\n",
      "    163-171.\n",
      "\n"
     ]
    }
   ],
   "source": [
    "import sklearn\n",
    "from sklearn.datasets import load_breast_cancer \n",
    "bc=load_breast_cancer()\n",
    "print(bc.DESCR)\n"
   ]
  },
  {
   "cell_type": "code",
   "execution_count": 4,
   "metadata": {},
   "outputs": [
    {
     "data": {
      "text/plain": [
       "(569, 30)"
      ]
     },
     "execution_count": 4,
     "metadata": {},
     "output_type": "execute_result"
    }
   ],
   "source": [
    "bc.target[0]\n",
    "bc.target.shape\n",
    "bc.data[500]\n",
    "bc.data.shape\n"
   ]
  },
  {
   "cell_type": "markdown",
   "metadata": {},
   "source": [
    "#train/test"
   ]
  },
  {
   "cell_type": "code",
   "execution_count": 5,
   "metadata": {},
   "outputs": [
    {
     "data": {
      "text/plain": [
       "array([1.366e+01, 1.913e+01, 8.946e+01, 5.753e+02, 9.057e-02, 1.147e-01,\n",
       "       9.657e-02, 4.812e-02, 1.848e-01, 6.181e-02, 2.244e-01, 8.950e-01,\n",
       "       1.804e+00, 1.936e+01, 3.980e-03, 2.809e-02, 3.669e-02, 1.274e-02,\n",
       "       1.581e-02, 3.956e-03, 1.514e+01, 2.550e+01, 1.014e+02, 7.088e+02,\n",
       "       1.147e-01, 3.167e-01, 3.660e-01, 1.407e-01, 2.744e-01, 8.839e-02])"
      ]
     },
     "execution_count": 5,
     "metadata": {},
     "output_type": "execute_result"
    }
   ],
   "source": [
    "from sklearn.model_selection import train_test_split\n",
    "x_train,x_test,y_train,y_test=train_test_split(bc.data,bc.target,test_size=0.2)\n",
    "\n",
    "x_test.shape,x_train.shape\n",
    "\n",
    "x_train[0]\n"
   ]
  },
  {
   "cell_type": "code",
   "execution_count": 6,
   "metadata": {},
   "outputs": [],
   "source": [
    "#normalise"
   ]
  },
  {
   "cell_type": "code",
   "execution_count": 7,
   "metadata": {},
   "outputs": [],
   "source": [
    "from sklearn.preprocessing import MinMaxScaler\n",
    "scalar=MinMaxScaler(feature_range=(0,1))\n",
    "x_train=scalar.fit_transform(x_train)\n",
    "x_test=scalar.fit_transform(x_test)\n"
   ]
  },
  {
   "cell_type": "code",
   "execution_count": 8,
   "metadata": {},
   "outputs": [
    {
     "data": {
      "text/plain": [
       "array([0.31610583, 0.31856611, 0.31559671, 0.18331564, 0.42216535,\n",
       "       0.2923747 , 0.22647749, 0.25154208, 0.3979798 , 0.24957877,\n",
       "       0.04088358, 0.1512529 , 0.04933327, 0.02420595, 0.06873266,\n",
       "       0.19405474, 0.09265152, 0.24133359, 0.11155513, 0.10575847,\n",
       "       0.28611111, 0.35927505, 0.2850355 , 0.16126648, 0.23664662,\n",
       "       0.31251245, 0.29233227, 0.48350515, 0.23240686, 0.28272296])"
      ]
     },
     "execution_count": 8,
     "metadata": {},
     "output_type": "execute_result"
    }
   ],
   "source": [
    "x_train.shape\n",
    "x_train[0]\n"
   ]
  },
  {
   "cell_type": "code",
   "execution_count": 9,
   "metadata": {},
   "outputs": [],
   "source": [
    "from sklearn.metrics import accuracy_score, recall_score,confusion_matrix,precision_score\n",
    "\n",
    "def calculate_metrics(y_train,y_test,y_pred_train,y_pred_test):\n",
    "\n",
    "    conf_train=confusion_matrix(y_train,y_pred_train)\n",
    "    conf_test=confusion_matrix(y_test,y_pred_test)\n",
    "\n",
    "    acc_train=accuracy_score(y_train,y_pred_train)\n",
    "    acc_test=accuracy_score(y_true=y_test,y_pred=y_pred_test)\n",
    "\n",
    "    rec_train=recall_score(y_train,y_pred_train)\n",
    "    rec_test=recall_score(y_test,y_pred_test)\n",
    "\n",
    "    prec_train=precision_score(y_train,y_pred_train)\n",
    "    prec_test=precision_score(y_test,y_pred_test)\n",
    "    print(\n",
    "      f\"confusion for training data: {conf_train}\\t\\t\"\n",
    "      f\"confusion for test data: {conf_test}\\n\\n\"\n",
    "      f\"Accuracy for training data: {acc_train}\\t\\t\"\n",
    "      f\"Accuracy for test data: {acc_test}\\n\\n\"\n",
    "      f\"Recall for training data: {rec_train}\\t\\t\"\n",
    "      f\"Recall for test data: {rec_test}\\n\\n\"\n",
    "      f\"Precision for training data: {prec_train}\\t\\t\"\n",
    "      f\"Precision for test data: {prec_test}\\n\\n\")\n",
    "\n",
    "    return  conf_train,conf_test,acc_train,acc_test,rec_train,rec_test,prec_train,prec_test\n"
   ]
  },
  {
   "cell_type": "code",
   "execution_count": 10,
   "metadata": {},
   "outputs": [],
   "source": [
    "#naive bayes "
   ]
  },
  {
   "cell_type": "code",
   "execution_count": 11,
   "metadata": {},
   "outputs": [
    {
     "name": "stdout",
     "output_type": "stream",
     "text": [
      "confusion for training data: [[149  21]\n",
      " [ 12 273]]\t\tconfusion for test data: [[40  2]\n",
      " [ 0 72]]\n",
      "\n",
      "Accuracy for training data: 0.9274725274725275\t\tAccuracy for test data: 0.9824561403508771\n",
      "\n",
      "Recall for training data: 0.9578947368421052\t\tRecall for test data: 1.0\n",
      "\n",
      "Precision for training data: 0.9285714285714286\t\tPrecision for test data: 0.972972972972973\n",
      "\n",
      "\n"
     ]
    }
   ],
   "source": [
    "from sklearn.naive_bayes import GaussianNB\n",
    "gnb=GaussianNB()\n",
    "gnb.fit(x_train,y_train)\n",
    "\n",
    "y_pred_train=gnb.predict(x_train)\n",
    "y_pred_test=gnb.predict(x_test)\n",
    "\n",
    "conf_train_gnb, conf_test_gnb, acc_train_gnb,acc_test_gnb, rec_train_gnb,rec_test_gnb,prec_train_gnb,prec_test_gnb=calculate_metrics(y_train,y_test,y_pred_train,y_pred_test)\n",
    "\n"
   ]
  },
  {
   "cell_type": "code",
   "execution_count": 12,
   "metadata": {},
   "outputs": [
    {
     "name": "stdout",
     "output_type": "stream",
     "text": [
      "confusion for training data: [[163   7]\n",
      " [  5 280]]\t\tconfusion for test data: [[40  2]\n",
      " [ 1 71]]\n",
      "\n",
      "Accuracy for training data: 0.9736263736263736\t\tAccuracy for test data: 0.9736842105263158\n",
      "\n",
      "Recall for training data: 0.9824561403508771\t\tRecall for test data: 0.9861111111111112\n",
      "\n",
      "Precision for training data: 0.975609756097561\t\tPrecision for test data: 0.9726027397260274\n",
      "\n",
      "\n"
     ]
    }
   ],
   "source": [
    "#knn\n",
    "from sklearn.neighbors import KNeighborsClassifier\n",
    "knn=KNeighborsClassifier(n_neighbors=8,algorithm='kd_tree',leaf_size=28)\n",
    "knn.fit(x_train,y_train)\n",
    "y_pred_train=gnb.predict(x_train)\n",
    "y_pred_test=gnb.predict(x_test)\n",
    "\n",
    "y_pred_train=knn.predict(x_train)\n",
    "y_pred_test=knn.predict(x_test)\n",
    "conf_train_knn, conf_test_knn, acc_train_knn,acc_test_knn, rec_train_knn,rec_test_knn,prec_train_knn,prec_test_knn=calculate_metrics(y_train,y_test,y_pred_train,y_pred_test)\n",
    "\n"
   ]
  },
  {
   "cell_type": "code",
   "execution_count": 13,
   "metadata": {},
   "outputs": [
    {
     "name": "stdout",
     "output_type": "stream",
     "text": [
      "confusion for training data: [[170   0]\n",
      " [  4 281]]\t\tconfusion for test data: [[40  2]\n",
      " [ 5 67]]\n",
      "\n",
      "Accuracy for training data: 0.9912087912087912\t\tAccuracy for test data: 0.9385964912280702\n",
      "\n",
      "Recall for training data: 0.9859649122807017\t\tRecall for test data: 0.9305555555555556\n",
      "\n",
      "Precision for training data: 1.0\t\tPrecision for test data: 0.9710144927536232\n",
      "\n",
      "\n"
     ]
    }
   ],
   "source": [
    "#DT\n",
    "from sklearn.tree import DecisionTreeClassifier\n",
    "dt=DecisionTreeClassifier(max_depth=128,min_samples_leaf=2,min_samples_split=4,criterion='entropy')\n",
    "dt.fit(x_train,y_train)\n",
    "y_pred_train=dt.predict(x_train)\n",
    "y_pred_test=dt.predict(x_test)\n",
    "conf_train_dt, conf_test_dt, acc_train_dt,acc_test_dt, rec_train_dt,rec_test_dt,prec_train_dt,prec_test_dt=calculate_metrics(y_train,y_test,y_pred_train,y_pred_test)\n"
   ]
  },
  {
   "cell_type": "code",
   "execution_count": 14,
   "metadata": {},
   "outputs": [
    {
     "name": "stdout",
     "output_type": "stream",
     "text": [
      "confusion for training data: [[167   3]\n",
      " [  0 285]]\t\tconfusion for test data: [[38  4]\n",
      " [ 0 72]]\n",
      "\n",
      "Accuracy for training data: 0.9934065934065934\t\tAccuracy for test data: 0.9649122807017544\n",
      "\n",
      "Recall for training data: 1.0\t\tRecall for test data: 1.0\n",
      "\n",
      "Precision for training data: 0.9895833333333334\t\tPrecision for test data: 0.9473684210526315\n",
      "\n",
      "\n"
     ]
    }
   ],
   "source": [
    "#RF\n",
    "from sklearn.ensemble import RandomForestClassifier\n",
    "rf=RandomForestClassifier(n_estimators=500, max_depth=64, min_samples_split=8)\n",
    "rf.fit(x_train,y_train)\n",
    "y_pred_train=rf.predict(x_train)\n",
    "y_pred_test=rf.predict(x_test)\n",
    "conf_train_rf, conf_test_rf, acc_train_rf,acc_test_rf, rec_train_rf,rec_test_rf,prec_train_rf,prec_test_rf=calculate_metrics(y_train,y_test,y_pred_train,y_pred_test)\n"
   ]
  },
  {
   "cell_type": "code",
   "execution_count": 15,
   "metadata": {},
   "outputs": [
    {
     "name": "stdout",
     "output_type": "stream",
     "text": [
      "confusion for training data: [[163   7]\n",
      " [  1 284]]\t\tconfusion for test data: [[42  0]\n",
      " [ 0 72]]\n",
      "\n",
      "Accuracy for training data: 0.9824175824175824\t\tAccuracy for test data: 1.0\n",
      "\n",
      "Recall for training data: 0.9964912280701754\t\tRecall for test data: 1.0\n",
      "\n",
      "Precision for training data: 0.9759450171821306\t\tPrecision for test data: 1.0\n",
      "\n",
      "\n"
     ]
    }
   ],
   "source": [
    "#SVM\n",
    "from sklearn.svm import SVC\n",
    "svm=SVC(kernel='poly')\n",
    "svm.fit(x_train,y_train)\n",
    "y_pred_train=svm.predict(x_train)\n",
    "y_pred_test=svm.predict(x_test)\n",
    "conf_train_svm, conf_test_svm, acc_train_svm,acc_test_svm, rec_train_svm,rec_test_svm,prec_train_svm,prec_test_svm=calculate_metrics(y_train,y_test,y_pred_train,y_pred_test)\n"
   ]
  },
  {
   "cell_type": "code",
   "execution_count": 16,
   "metadata": {},
   "outputs": [
    {
     "name": "stdout",
     "output_type": "stream",
     "text": [
      "confusion for training data: [[154  16]\n",
      " [  1 284]]\t\tconfusion for test data: [[40  2]\n",
      " [ 0 72]]\n",
      "\n",
      "Accuracy for training data: 0.9626373626373627\t\tAccuracy for test data: 0.9824561403508771\n",
      "\n",
      "Recall for training data: 0.9964912280701754\t\tRecall for test data: 1.0\n",
      "\n",
      "Precision for training data: 0.9466666666666667\t\tPrecision for test data: 0.972972972972973\n",
      "\n",
      "\n"
     ]
    }
   ],
   "source": [
    "#Lr\n",
    "from sklearn.linear_model import LogisticRegression\n",
    "lr=LogisticRegression()\n",
    "lr.fit(x_train,y_train)\n",
    "y_pred_train=lr.predict(x_train)\n",
    "y_pred_test=lr.predict(x_test)\n",
    "conf_train_lr, conf_test_lr, acc_train_lr,acc_test_lr, rec_train_lr,rec_test_lr,prec_train_lr,prec_test_lr=calculate_metrics(y_train,y_test,y_pred_train,y_pred_test)\n"
   ]
  },
  {
   "cell_type": "code",
   "execution_count": 17,
   "metadata": {},
   "outputs": [
    {
     "name": "stdout",
     "output_type": "stream",
     "text": [
      "confusion for training data: [[165   5]\n",
      " [  2 283]]\t\tconfusion for test data: [[40  2]\n",
      " [ 1 71]]\n",
      "\n",
      "Accuracy for training data: 0.9846153846153847\t\tAccuracy for test data: 0.9736842105263158\n",
      "\n",
      "Recall for training data: 0.9929824561403509\t\tRecall for test data: 0.9861111111111112\n",
      "\n",
      "Precision for training data: 0.9826388888888888\t\tPrecision for test data: 0.9726027397260274\n",
      "\n",
      "\n"
     ]
    },
    {
     "name": "stderr",
     "output_type": "stream",
     "text": [
      "c:\\Users\\Alzahra\\AppData\\Local\\Programs\\Python\\Python311\\Lib\\site-packages\\sklearn\\neural_network\\_multilayer_perceptron.py:691: ConvergenceWarning: Stochastic Optimizer: Maximum iterations (200) reached and the optimization hasn't converged yet.\n",
      "  warnings.warn(\n"
     ]
    }
   ],
   "source": [
    "#ANN\n",
    "from sklearn.neural_network import MLPClassifier\n",
    "ann=MLPClassifier(hidden_layer_sizes=256,activation='relu',solver='adam',batch_size=64)\n",
    "ann.fit(x_train,y_train)\n",
    "y_pred_train=ann.predict(x_train)\n",
    "y_pred_test=ann.predict(x_test)\n",
    "conf_train_ann, conf_test_ann, acc_train_ann,acc_test_ann, rec_train_ann,rec_test_ann,prec_train_ann,prec_test_ann=calculate_metrics(y_train,y_test,y_pred_train,y_pred_test)\n"
   ]
  },
  {
   "cell_type": "markdown",
   "metadata": {},
   "source": [
    "comparison"
   ]
  },
  {
   "cell_type": "code",
   "execution_count": 18,
   "metadata": {},
   "outputs": [
    {
     "data": {
      "image/png": "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",
      "text/plain": [
       "<Figure size 640x480 with 1 Axes>"
      ]
     },
     "metadata": {},
     "output_type": "display_data"
    },
    {
     "data": {
      "image/png": "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",
      "text/plain": [
       "<Figure size 640x480 with 1 Axes>"
      ]
     },
     "metadata": {},
     "output_type": "display_data"
    }
   ],
   "source": [
    "import matplotlib.pyplot as plt\n",
    "acc_train=[acc_train_gnb,acc_train_knn,acc_train_dt,acc_train_rf,acc_train_svm,acc_train_lr,acc_train_ann]\n",
    "title=[\"gnb\",'knn','dt','rf','svm','lr','ann']\n",
    "colors=['black','red','yellow','orange','green','blue','pink']\n",
    "plt.bar(title,acc_train,color=colors)\n",
    "plt.grid()\n",
    "plt.show()\n",
    "\n",
    "acc_test=[acc_test_gnb,acc_test_knn,acc_test_dt,acc_test_rf,acc_test_svm,acc_test_lr,acc_test_ann]\n",
    "title=[\"gnb\",'knn','dt','rf','svm','lr','ann']\n",
    "colors=['black','red','yellow','orange','green','blue','pink']\n",
    "plt.bar(title,acc_test,color=colors)\n",
    "plt.grid()\n",
    "plt.show()\n",
    "\n"
   ]
  }
 ],
 "metadata": {
  "kernelspec": {
   "display_name": "Python 3",
   "language": "python",
   "name": "python3"
  },
  "language_info": {
   "codemirror_mode": {
    "name": "ipython",
    "version": 3
   },
   "file_extension": ".py",
   "mimetype": "text/x-python",
   "name": "python",
   "nbconvert_exporter": "python",
   "pygments_lexer": "ipython3",
   "version": "3.11.9"
  }
 },
 "nbformat": 4,
 "nbformat_minor": 2
}
